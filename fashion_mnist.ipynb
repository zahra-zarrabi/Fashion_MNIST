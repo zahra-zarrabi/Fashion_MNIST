{
  "nbformat": 4,
  "nbformat_minor": 0,
  "metadata": {
    "colab": {
      "name": "Copy of Untitled6.ipynb",
      "provenance": [],
      "collapsed_sections": [],
      "include_colab_link": true
    },
    "kernelspec": {
      "name": "python3",
      "display_name": "Python 3"
    },
    "language_info": {
      "name": "python"
    },
    "accelerator": "GPU"
  },
  "cells": [
    {
      "cell_type": "markdown",
      "metadata": {
        "id": "view-in-github",
        "colab_type": "text"
      },
      "source": [
        "<a href=\"https://colab.research.google.com/github/zahra-zarrabi/Pytorch_Fashion_Mnist/blob/master/fashion_mnist.ipynb\" target=\"_parent\"><img src=\"https://colab.research.google.com/assets/colab-badge.svg\" alt=\"Open In Colab\"/></a>"
      ]
    },
    {
      "cell_type": "code",
      "source": [
        "pip install wandb"
      ],
      "metadata": {
        "id": "jIKO73h0cIc9"
      },
      "execution_count": null,
      "outputs": []
    },
    {
      "cell_type": "code",
      "execution_count": null,
      "metadata": {
        "id": "is6rtS4xl9qY"
      },
      "outputs": [],
      "source": [
        "import torch\n",
        "import torchvision\n",
        "from tqdm import tqdm\n",
        "import wandb"
      ]
    },
    {
      "cell_type": "code",
      "source": [
        "cd 'drive/MyDrive/fashion_mnist'"
      ],
      "metadata": {
        "colab": {
          "base_uri": "https://localhost:8080/"
        },
        "id": "b86HUBQKFluX",
        "outputId": "da543426-76d1-46a3-fb76-d8d81a48d215"
      },
      "execution_count": null,
      "outputs": [
        {
          "output_type": "stream",
          "name": "stdout",
          "text": [
            "/content/drive/MyDrive/fashion_mnist\n"
          ]
        }
      ]
    },
    {
      "cell_type": "code",
      "source": [
        "wandb.init(project='FashionMNIST')"
      ],
      "metadata": {
        "id": "jev-mX-Rcj1P"
      },
      "execution_count": null,
      "outputs": []
    },
    {
      "cell_type": "code",
      "source": [
        "def calc_acc(preds,labels):\n",
        "  _,pred_max=torch.max(preds,1)\n",
        "  acc=torch.sum(pred_max==labels.data,dtype=torch.float64)/len(preds)\n",
        "  return acc"
      ],
      "metadata": {
        "id": "k6q6wyZzC3ih"
      },
      "execution_count": null,
      "outputs": []
    },
    {
      "cell_type": "code",
      "source": [
        "class cnn_model(torch.nn.Module):\n",
        "  def __init__(self):\n",
        "    super().__init__()\n",
        "    self.cnn1 = torch.nn.Conv2d(in_channels=1,out_channels=16,kernel_size=5,stride=1,padding=2)\n",
        "    self.cnn2=torch.nn.Conv2d(in_channels=16,out_channels=32,kernel_size=5,stride=1,padding=2)   \n",
        "    self.fc1=torch.nn.Linear(1568,10)\n",
        "\n",
        "  def forward(self,x):\n",
        "    x=self.cnn1(x)\n",
        "    x=torch.relu(x)\n",
        "    x=torch.nn.MaxPool2d(2, stride=2)(x)\n",
        "    x=self.cnn2(x)\n",
        "    x=torch.relu(x)\n",
        "    x=torch.nn.MaxPool2d(2, stride=2)(x)\n",
        "    x=x.reshape((x.shape[0],1568))\n",
        "    x=self.fc1(x)\n",
        "    return x"
      ],
      "metadata": {
        "id": "rMvU_IUUmtHu"
      },
      "execution_count": null,
      "outputs": []
    },
    {
      "cell_type": "code",
      "source": [
        "device=torch.device('cuda')\n",
        "model=cnn_model()\n",
        "model = model.to(device)"
      ],
      "metadata": {
        "id": "ZqCKKgM-sdns"
      },
      "execution_count": null,
      "outputs": []
    },
    {
      "cell_type": "code",
      "source": [
        "batch_size=64\n",
        "epochs=10\n",
        "lr=0.01"
      ],
      "metadata": {
        "id": "Tsb5G_WF5MUw"
      },
      "execution_count": null,
      "outputs": []
    },
    {
      "cell_type": "code",
      "source": [
        "rm -rf *"
      ],
      "metadata": {
        "id": "YxO94j-pZmOP"
      },
      "execution_count": null,
      "outputs": []
    },
    {
      "cell_type": "code",
      "source": [
        "#data preparing\n",
        "transform=torchvision.transforms.Compose([\n",
        "                                          torchvision.transforms.ToTensor(),\n",
        "                                          torchvision.transforms.ConvertImageDtype(torch.float32),\n",
        "                                          # torchvision.transforms.Normalize((0),(255)),\n",
        "                                          torchvision.transforms.RandomHorizontalFlip()\n",
        "])\n",
        "train_data=torchvision.datasets.FashionMNIST('./dataset',train=True,download=True,transform=transform)\n",
        "train_data_loader=torch.utils.data.DataLoader(train_data,batch_size=batch_size,shuffle=True)\n",
        "\n",
        "test_data=torchvision.datasets.FashionMNIST('./dataset',train=False,download=True,transform=transform)\n",
        "test_data_loader=torch.utils.data.DataLoader(test_data,batch_size=batch_size,shuffle=False)\n"
      ],
      "metadata": {
        "id": "_J7hJ5oj53ve"
      },
      "execution_count": null,
      "outputs": []
    },
    {
      "cell_type": "code",
      "source": [
        "# compile\n",
        "optimizer = torch.optim.SGD(model.parameters(),lr=lr)\n",
        "loss_function=torch.nn.CrossEntropyLoss()"
      ],
      "metadata": {
        "id": "IKjA92_c_RWx"
      },
      "execution_count": null,
      "outputs": []
    },
    {
      "cell_type": "code",
      "source": [
        "def train(model, train_data_loader,epoch):\n",
        "  model.train(True)\n",
        "  train_loss=0.0\n",
        "  train_acc=0.0\n",
        "  for images,labels in tqdm(train_data_loader):\n",
        "    images=images.to(device)\n",
        "    labels=labels.to(device)\n",
        "    optimizer.zero_grad()\n",
        "    \n",
        "    preds_train = model(images)\n",
        "\n",
        "    loss_train=loss_function(preds_train,labels) # loss_train\n",
        "    loss_train.backward()\n",
        "\n",
        "    optimizer.step()\n",
        "\n",
        "    train_loss += loss_train\n",
        "    train_acc += calc_acc(preds_train,labels)\n",
        "    \n",
        "  total_loss = train_loss/len(train_data_loader)\n",
        "  total_acc = train_acc/len(train_data_loader)\n",
        "  print(f\"loss_train:{total_loss},accuracy_train:{total_acc}\")\n",
        "\n",
        "  wandb.log({'epochs':  epoch,\n",
        "              'loss_train': total_loss,\n",
        "              'accuracy_train': total_acc\n",
        "                              })"
      ],
      "metadata": {
        "id": "R34jloVBR7lz"
      },
      "execution_count": null,
      "outputs": []
    },
    {
      "cell_type": "code",
      "source": [
        "def test(model, test_data_loader,epoch):\n",
        "  model.eval()\n",
        "  test_loss=0.0\n",
        "  test_acc=0.0\n",
        "  for images,labels in tqdm(test_data_loader):    \n",
        "    images=images.to(device)\n",
        "    labels=labels.to(device)\n",
        "    \n",
        "    preds_test = model(images)\n",
        "\n",
        "    loss_test=loss_function(preds_test,labels) \n",
        "\n",
        "    test_loss += loss_test\n",
        "    test_acc += calc_acc(preds_test,labels)\n",
        "\n",
        "  total_loss = test_loss/len(test_data_loader)\n",
        "  total_acc = test_acc/len(test_data_loader)\n",
        "  print(f\"loss_eval:{total_loss},accuracy_eval:{total_acc}\")\n",
        "\n",
        "  wandb.log({'epochs':  epoch,\n",
        "              'loss_eval': total_loss,\n",
        "              'accuracy_eval': total_acc\n",
        "                              })"
      ],
      "metadata": {
        "id": "eEti9FHSTCUs"
      },
      "execution_count": null,
      "outputs": []
    },
    {
      "cell_type": "code",
      "source": [
        "for epoch in range(epochs):\n",
        "  print(f'Epoch:{epoch}')\n",
        "  train(model, train_data_loader,epoch)\n",
        "  test(model, test_data_loader,epoch)  \n"
      ],
      "metadata": {
        "colab": {
          "base_uri": "https://localhost:8080/"
        },
        "id": "HuA7QG3ZAZiX",
        "outputId": "85b818f5-7774-47f1-faa1-4b9d51169331"
      },
      "execution_count": null,
      "outputs": [
        {
          "output_type": "stream",
          "name": "stdout",
          "text": [
            "Epoch:0\n"
          ]
        },
        {
          "output_type": "stream",
          "name": "stderr",
          "text": [
            "100%|██████████| 938/938 [00:16<00:00, 58.53it/s]\n"
          ]
        },
        {
          "output_type": "stream",
          "name": "stdout",
          "text": [
            "loss_train:1.0472759008407593,accuracy_train:0.6350946162046908\n"
          ]
        },
        {
          "output_type": "stream",
          "name": "stderr",
          "text": [
            "100%|██████████| 157/157 [00:02<00:00, 63.57it/s]\n"
          ]
        },
        {
          "output_type": "stream",
          "name": "stdout",
          "text": [
            "loss_eval:0.7028485536575317,accuracy_eval:0.7593550955414013\n",
            "Epoch:1\n"
          ]
        },
        {
          "output_type": "stream",
          "name": "stderr",
          "text": [
            "100%|██████████| 938/938 [00:16<00:00, 58.57it/s]\n"
          ]
        },
        {
          "output_type": "stream",
          "name": "stdout",
          "text": [
            "loss_train:0.6364608407020569,accuracy_train:0.7776519189765458\n"
          ]
        },
        {
          "output_type": "stream",
          "name": "stderr",
          "text": [
            "100%|██████████| 157/157 [00:02<00:00, 64.38it/s]\n"
          ]
        },
        {
          "output_type": "stream",
          "name": "stdout",
          "text": [
            "loss_eval:0.6179206967353821,accuracy_eval:0.7775676751592357\n",
            "Epoch:2\n"
          ]
        },
        {
          "output_type": "stream",
          "name": "stderr",
          "text": [
            "100%|██████████| 938/938 [00:15<00:00, 59.13it/s]\n"
          ]
        },
        {
          "output_type": "stream",
          "name": "stdout",
          "text": [
            "loss_train:0.5387858748435974,accuracy_train:0.8124000533049041\n"
          ]
        },
        {
          "output_type": "stream",
          "name": "stderr",
          "text": [
            "100%|██████████| 157/157 [00:02<00:00, 67.64it/s]\n"
          ]
        },
        {
          "output_type": "stream",
          "name": "stdout",
          "text": [
            "loss_eval:0.5476011633872986,accuracy_eval:0.8067277070063694\n",
            "Epoch:3\n"
          ]
        },
        {
          "output_type": "stream",
          "name": "stderr",
          "text": [
            "100%|██████████| 938/938 [00:15<00:00, 60.95it/s]\n"
          ]
        },
        {
          "output_type": "stream",
          "name": "stdout",
          "text": [
            "loss_train:0.48391881585121155,accuracy_train:0.831972947761194\n"
          ]
        },
        {
          "output_type": "stream",
          "name": "stderr",
          "text": [
            "100%|██████████| 157/157 [00:02<00:00, 65.54it/s]\n"
          ]
        },
        {
          "output_type": "stream",
          "name": "stdout",
          "text": [
            "loss_eval:0.4832317531108856,accuracy_eval:0.8313097133757962\n",
            "Epoch:4\n"
          ]
        },
        {
          "output_type": "stream",
          "name": "stderr",
          "text": [
            "100%|██████████| 938/938 [00:15<00:00, 60.40it/s]\n"
          ]
        },
        {
          "output_type": "stream",
          "name": "stdout",
          "text": [
            "loss_train:0.45131760835647583,accuracy_train:0.8422341417910447\n"
          ]
        },
        {
          "output_type": "stream",
          "name": "stderr",
          "text": [
            "100%|██████████| 157/157 [00:02<00:00, 66.80it/s]\n"
          ]
        },
        {
          "output_type": "stream",
          "name": "stdout",
          "text": [
            "loss_eval:0.4804476201534271,accuracy_eval:0.8297173566878981\n",
            "Epoch:5\n"
          ]
        },
        {
          "output_type": "stream",
          "name": "stderr",
          "text": [
            "100%|██████████| 938/938 [00:15<00:00, 59.71it/s]\n"
          ]
        },
        {
          "output_type": "stream",
          "name": "stdout",
          "text": [
            "loss_train:0.42937394976615906,accuracy_train:0.8498300906183369\n"
          ]
        },
        {
          "output_type": "stream",
          "name": "stderr",
          "text": [
            "100%|██████████| 157/157 [00:02<00:00, 66.02it/s]\n"
          ]
        },
        {
          "output_type": "stream",
          "name": "stdout",
          "text": [
            "loss_eval:0.45643824338912964,accuracy_eval:0.8413614649681529\n",
            "Epoch:6\n"
          ]
        },
        {
          "output_type": "stream",
          "name": "stderr",
          "text": [
            "100%|██████████| 938/938 [00:15<00:00, 60.12it/s]\n"
          ]
        },
        {
          "output_type": "stream",
          "name": "stdout",
          "text": [
            "loss_train:0.41117480397224426,accuracy_train:0.8562266791044776\n"
          ]
        },
        {
          "output_type": "stream",
          "name": "stderr",
          "text": [
            "100%|██████████| 157/157 [00:02<00:00, 66.55it/s]\n"
          ]
        },
        {
          "output_type": "stream",
          "name": "stdout",
          "text": [
            "loss_eval:0.4402673840522766,accuracy_eval:0.8473328025477708\n",
            "Epoch:7\n"
          ]
        },
        {
          "output_type": "stream",
          "name": "stderr",
          "text": [
            "100%|██████████| 938/938 [00:15<00:00, 60.38it/s]\n"
          ]
        },
        {
          "output_type": "stream",
          "name": "stdout",
          "text": [
            "loss_train:0.3977034091949463,accuracy_train:0.8614738805970149\n"
          ]
        },
        {
          "output_type": "stream",
          "name": "stderr",
          "text": [
            "100%|██████████| 157/157 [00:02<00:00, 65.58it/s]\n"
          ]
        },
        {
          "output_type": "stream",
          "name": "stdout",
          "text": [
            "loss_eval:0.41036108136177063,accuracy_eval:0.8571855095541402\n",
            "Epoch:8\n"
          ]
        },
        {
          "output_type": "stream",
          "name": "stderr",
          "text": [
            "100%|██████████| 938/938 [00:15<00:00, 59.27it/s]\n"
          ]
        },
        {
          "output_type": "stream",
          "name": "stdout",
          "text": [
            "loss_train:0.3851551413536072,accuracy_train:0.8650053304904051\n"
          ]
        },
        {
          "output_type": "stream",
          "name": "stderr",
          "text": [
            "100%|██████████| 157/157 [00:02<00:00, 65.07it/s]\n"
          ]
        },
        {
          "output_type": "stream",
          "name": "stdout",
          "text": [
            "loss_eval:0.40940016508102417,accuracy_eval:0.8556926751592357\n",
            "Epoch:9\n"
          ]
        },
        {
          "output_type": "stream",
          "name": "stderr",
          "text": [
            "100%|██████████| 938/938 [00:15<00:00, 59.96it/s]\n"
          ]
        },
        {
          "output_type": "stream",
          "name": "stdout",
          "text": [
            "loss_train:0.37518876791000366,accuracy_train:0.8700692963752665\n"
          ]
        },
        {
          "output_type": "stream",
          "name": "stderr",
          "text": [
            "100%|██████████| 157/157 [00:02<00:00, 66.41it/s]"
          ]
        },
        {
          "output_type": "stream",
          "name": "stdout",
          "text": [
            "loss_eval:0.3972972333431244,accuracy_eval:0.8607683121019108\n"
          ]
        },
        {
          "output_type": "stream",
          "name": "stderr",
          "text": [
            "\n"
          ]
        }
      ]
    },
    {
      "cell_type": "code",
      "source": [
        "torch.save(model.state_dict(), \"fashion_mnist.pth\")"
      ],
      "metadata": {
        "id": "ZzshZzietq6x"
      },
      "execution_count": null,
      "outputs": []
    },
    {
      "cell_type": "code",
      "source": [
        "# test_data=torchvision.datasets.FashionMNIST('./dataset',train=False,download=True)"
      ],
      "metadata": {
        "id": "h-dcraXGo-vT"
      },
      "execution_count": null,
      "outputs": []
    },
    {
      "cell_type": "code",
      "source": [
        "# test_data.data.numpy().shape"
      ],
      "metadata": {
        "id": "Z1w8yK_8pN13"
      },
      "execution_count": null,
      "outputs": []
    },
    {
      "cell_type": "code",
      "source": [
        "\n",
        "# cnt = 0\n",
        "# for images,labels in tqdm(test_data):\n",
        "#   images.save(\"{}.jpeg\".format(labels))\n",
        "#   print(labels)\n",
        "#   cnt += 1\n",
        "#   if cnt > 5:\n",
        "#     break"
      ],
      "metadata": {
        "id": "TZUG3BlZ_maw"
      },
      "execution_count": null,
      "outputs": []
    }
  ]
}